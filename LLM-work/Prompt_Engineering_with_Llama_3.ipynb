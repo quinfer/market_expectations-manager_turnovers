{
 "cells": [
  {
   "cell_type": "code",
   "execution_count": 22,
   "metadata": {},
   "outputs": [],
   "source": [
    "import os\n",
    "from typing import Dict, List\n",
    "from groq import Groq\n",
    "\n",
    "# Get a free API key from https://console.groq.com/keys\n",
    "os.environ[\"GROQ_API_KEY\"] = \"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\"\n",
    "\n",
    "LLAMA3_70B_INSTRUCT = \"llama3-70b-8192\"\n",
    "LLAMA3_8B_INSTRUCT = \"llama3-8b-8192\"\n",
    "\n",
    "DEFAULT_MODEL = LLAMA3_70B_INSTRUCT\n",
    "\n",
    "client = Groq()\n",
    "\n",
    "def assistant(content: str):\n",
    "    return { \"role\": \"assistant\", \"content\": content }\n",
    "\n",
    "def user(content: str):\n",
    "    return { \"role\": \"user\", \"content\": content }\n",
    "\n",
    "def chat_completion(\n",
    "    messages: List[Dict],\n",
    "    model = DEFAULT_MODEL,\n",
    "    temperature: float = 0.6,\n",
    "    top_p: float = 0.9,\n",
    ") -> str:\n",
    "    response = client.chat.completions.create(\n",
    "        messages=messages,\n",
    "        model=model,\n",
    "        temperature=temperature,\n",
    "        top_p=top_p,\n",
    "    )\n",
    "    return response.choices[0].message.content\n",
    "        \n",
    "\n",
    "def completion(\n",
    "    prompt: str,\n",
    "    model: str = DEFAULT_MODEL,\n",
    "    temperature: float = 0.0,\n",
    "    top_p: float = 0.9,\n",
    ") -> str:\n",
    "    return chat_completion(\n",
    "        [user(prompt)],\n",
    "        model=model,\n",
    "        temperature=temperature,\n",
    "        top_p=top_p,\n",
    "    )\n",
    "\n",
    "def complete_and_print(prompt: str, model: str = DEFAULT_MODEL):\n",
    "    print(f'==============\\n{prompt}\\n==============')\n",
    "    response = completion(prompt, model)\n",
    "    print(response, end='\\n\\n')\n",
    "    # save response to file\n",
    "    return response"
   ]
  },
  {
   "cell_type": "markdown",
   "metadata": {},
   "source": [
    "# Extracting information from managerial spells"
   ]
  },
  {
   "cell_type": "code",
   "execution_count": 23,
   "metadata": {},
   "outputs": [
    {
     "name": "stdout",
     "output_type": "stream",
     "text": [
      "==============\n",
      "You are a AI robot who only outputs in JSON format.\n",
      "The JSON response should have the following fields, 'club_name', 'end_of_spell', 'club's country of origin', 'League', 'Tier','Manager','Sacked','probability'.\n",
      "The task is given the first two fields ('club_name','end_of_spell') answer the following accurately: \n",
      "- what is the 'club's country of origin'?\n",
      "- What is the 'League' did the club play in on 'end_of_spell' date?\n",
      "- What is the 'Tier' is the above 'League' with the top league define as 'Tier 1'?\n",
      "- Who was the manager of the club on 'date'?\n",
      "- Was the manager sacked?\n",
      "Example question: What country does Man \n",
      "Example response: {\"club_name\":\"Man United\",\n",
      "                    \"end_of_spell\":\"14/5/2024\",\n",
      "                    \"country\":\"England\",\n",
      "                    \"League\" :\"Premier League\",\n",
      "                    \"Tier\":\"Tier 1\",\n",
      "                    \"Manager\":\"Ole Gunnar Solskjaer\",\n",
      "                    \"Sacked\":\"Yes\",\n",
      "                    \"probability\": '0.8'}'\n",
      " Provide responses to eacho of these club_name:end_of_spell pairs: club_name,end_of_spell\n",
      "West Ham,2018-05-16\n",
      "Sunderland,2017-05-22\n",
      "Real Sociedad,2015-11-09\n",
      "UEFA,2016-07-10\n",
      "Man Utd,2014-04-22\n",
      "Everton,2013-06-30\n",
      "Preston,2002-03-13\n",
      "Real Betis,2026-06-30\n",
      "West Ham,2019-12-28\n",
      "\n",
      "==============\n",
      "Here are the responses in JSON format:\n",
      "\n",
      "**West Ham, 2018-05-16**\n",
      "{\"club_name\":\"West Ham\", \"end_of_spell\":\"2018-05-16\", \"country\":\"England\", \"League\" :\"Premier League\", \"Tier\":\"Tier 1\", \"Manager\":\"David Moyes\", \"Sacked\":\"No\", \"probability\": '0.9'}\n",
      "\n",
      "**Sunderland, 2017-05-22**\n",
      "{\"club_name\":\"Sunderland\", \"end_of_spell\":\"2017-05-22\", \"country\":\"England\", \"League\" :\"Championship\", \"Tier\":\"Tier 2\", \"Manager\":\"David Moyes\", \"Sacked\":\"Yes\", \"probability\": '0.8'}\n",
      "\n",
      "**Real Sociedad, 2015-11-09**\n",
      "{\"club_name\":\"Real Sociedad\", \"end_of_spell\":\"2015-11-09\", \"country\":\"Spain\", \"League\" :\"La Liga\", \"Tier\":\"Tier 1\", \"Manager\":\"Eusebio Sacristán\", \"Sacked\":\"No\", \"probability\": '0.7'}\n",
      "\n",
      "**UEFA, 2016-07-10**\n",
      "{\"club_name\":\"UEFA\", \"end_of_spell\":\"2016-07-10\", \"country\":\"Europe\", \"League\" :\"N/A\", \"Tier\":\"N/A\", \"Manager\":\"N/A\", \"Sacked\":\"N/A\", \"probability\": '0.0'}\n",
      "\n",
      "**Man Utd, 2014-04-22**\n",
      "{\"club_name\":\"Man Utd\", \"end_of_spell\":\"2014-04-22\", \"country\":\"England\", \"League\" :\"Premier League\", \"Tier\":\"Tier 1\", \"Manager\":\"David Moyes\", \"Sacked\":\"Yes\", \"probability\": '0.9'}\n",
      "\n",
      "**Everton, 2013-06-30**\n",
      "{\"club_name\":\"Everton\", \"end_of_spell\":\"2013-06-30\", \"country\":\"England\", \"League\" :\"Premier League\", \"Tier\":\"Tier 1\", \"Manager\":\"David Moyes\", \"Sacked\":\"No\", \"probability\": '0.8'}\n",
      "\n",
      "**Preston, 2002-03-13**\n",
      "{\"club_name\":\"Preston\", \"end_of_spell\":\"2002-03-13\", \"country\":\"England\", \"League\" :\"First Division\", \"Tier\":\"Tier 2\", \"Manager\":\"David Moyes\", \"Sacked\":\"No\", \"probability\": '0.7'}\n",
      "\n",
      "**Real Betis, 2026-06-30**\n",
      "{\"club_name\":\"Real Betis\", \"end_of_spell\":\"2026-06-30\", \"country\":\"Spain\", \"League\" :\"La Liga\", \"Tier\":\"Tier 1\", \"Manager\":\"N/A\", \"Sacked\":\"N/A\", \"probability\": '0.5'}\n",
      "\n",
      "**West Ham, 2019-12-28**\n",
      "{\"club_name\":\"West Ham\", \"end_of_spell\":\"2019-12-28\", \"country\":\"England\", \"League\" :\"Premier League\", \"Tier\":\"Tier 1\", \"Manager\":\"Manuel Pellegrini\", \"Sacked\":\"Yes\", \"probability\": '0.9'}\n",
      "\n"
     ]
    },
    {
     "data": {
      "text/plain": [
       "'Here are the responses in JSON format:\\n\\n**West Ham, 2018-05-16**\\n{\"club_name\":\"West Ham\", \"end_of_spell\":\"2018-05-16\", \"country\":\"England\", \"League\" :\"Premier League\", \"Tier\":\"Tier 1\", \"Manager\":\"David Moyes\", \"Sacked\":\"No\", \"probability\": \\'0.9\\'}\\n\\n**Sunderland, 2017-05-22**\\n{\"club_name\":\"Sunderland\", \"end_of_spell\":\"2017-05-22\", \"country\":\"England\", \"League\" :\"Championship\", \"Tier\":\"Tier 2\", \"Manager\":\"David Moyes\", \"Sacked\":\"Yes\", \"probability\": \\'0.8\\'}\\n\\n**Real Sociedad, 2015-11-09**\\n{\"club_name\":\"Real Sociedad\", \"end_of_spell\":\"2015-11-09\", \"country\":\"Spain\", \"League\" :\"La Liga\", \"Tier\":\"Tier 1\", \"Manager\":\"Eusebio Sacristán\", \"Sacked\":\"No\", \"probability\": \\'0.7\\'}\\n\\n**UEFA, 2016-07-10**\\n{\"club_name\":\"UEFA\", \"end_of_spell\":\"2016-07-10\", \"country\":\"Europe\", \"League\" :\"N/A\", \"Tier\":\"N/A\", \"Manager\":\"N/A\", \"Sacked\":\"N/A\", \"probability\": \\'0.0\\'}\\n\\n**Man Utd, 2014-04-22**\\n{\"club_name\":\"Man Utd\", \"end_of_spell\":\"2014-04-22\", \"country\":\"England\", \"League\" :\"Premier League\", \"Tier\":\"Tier 1\", \"Manager\":\"David Moyes\", \"Sacked\":\"Yes\", \"probability\": \\'0.9\\'}\\n\\n**Everton, 2013-06-30**\\n{\"club_name\":\"Everton\", \"end_of_spell\":\"2013-06-30\", \"country\":\"England\", \"League\" :\"Premier League\", \"Tier\":\"Tier 1\", \"Manager\":\"David Moyes\", \"Sacked\":\"No\", \"probability\": \\'0.8\\'}\\n\\n**Preston, 2002-03-13**\\n{\"club_name\":\"Preston\", \"end_of_spell\":\"2002-03-13\", \"country\":\"England\", \"League\" :\"First Division\", \"Tier\":\"Tier 2\", \"Manager\":\"David Moyes\", \"Sacked\":\"No\", \"probability\": \\'0.7\\'}\\n\\n**Real Betis, 2026-06-30**\\n{\"club_name\":\"Real Betis\", \"end_of_spell\":\"2026-06-30\", \"country\":\"Spain\", \"League\" :\"La Liga\", \"Tier\":\"Tier 1\", \"Manager\":\"N/A\", \"Sacked\":\"N/A\", \"probability\": \\'0.5\\'}\\n\\n**West Ham, 2019-12-28**\\n{\"club_name\":\"West Ham\", \"end_of_spell\":\"2019-12-28\", \"country\":\"England\", \"League\" :\"Premier League\", \"Tier\":\"Tier 1\", \"Manager\":\"Manuel Pellegrini\", \"Sacked\":\"Yes\", \"probability\": \\'0.9\\'}'"
      ]
     },
     "execution_count": 23,
     "metadata": {},
     "output_type": "execute_result"
    }
   ],
   "source": [
    "# read in prompt from a text file\n",
    "with open(\"prompts/llama3_prompt.txt\") as f:\n",
    "    prompt = f.read()\n",
    "\n",
    "with open(\"input_test.txt\") as f:\n",
    "    prompt_variables = f.read()\n",
    "\n",
    "complete_and_print(f\"{prompt} Provide responses to each of these club_name:end_of_spell pairs: {prompt_variables}\")    "
   ]
  },
  {
   "cell_type": "code",
   "execution_count": 12,
   "metadata": {},
   "outputs": [
    {
     "data": {
      "text/plain": [
       "'I remember! Your favorite color is blue!'"
      ]
     },
     "execution_count": 12,
     "metadata": {},
     "output_type": "execute_result"
    }
   ],
   "source": [
    "response"
   ]
  },
  {
   "cell_type": "code",
   "execution_count": 24,
   "metadata": {},
   "outputs": [],
   "source": [
    "import pandas as pd\n",
    "\n",
    "chunksize = 1000\n",
    "chunks = []\n",
    "\n",
    "for chunk in pd.read_csv(\"LLM_input.csv\", chunksize=chunksize):\n",
    "    # Process each chunk here\n",
    "    # For example, let's just append it to our list\n",
    "    chunks.append(chunk)\n",
    "\n",
    "# Now, chunks is a list of dataframes, each with 1000 rows (except possibly the last one)"
   ]
  },
  {
   "cell_type": "code",
   "execution_count": null,
   "metadata": {},
   "outputs": [],
   "source": [
    "from tqdm import tqdm\n",
    "\n",
    "responses = []\n",
    "\n",
    "# Wrap your iterable with tqdm() for a progress bar\n",
    "for _, group in tqdm(chunks):\n",
    "    response=complete_and_print(f\"{prompt} Provide responses to each of these club_name:end_of_spell pairs: {prompt_variables}\")    \n",
    "    responses.append(response)\n"
   ]
  }
 ],
 "metadata": {
  "captumWidgetMessage": [],
  "dataExplorerConfig": [],
  "kernelspec": {
   "display_name": "Python 3 (ipykernel)",
   "language": "python",
   "name": "python3"
  },
  "language_info": {
   "codemirror_mode": {
    "name": "ipython",
    "version": 3
   },
   "file_extension": ".py",
   "mimetype": "text/x-python",
   "name": "python",
   "nbconvert_exporter": "python",
   "pygments_lexer": "ipython3",
   "version": "3.9.19"
  },
  "last_base_url": "https://bento.edge.x2p.facebook.net/",
  "last_kernel_id": "161e2a7b-2d2b-4995-87f3-d1539860ecac",
  "last_msg_id": "4eab1242-d815b886ebe4f5b1966da982_543",
  "last_server_session_id": "4a7b41c5-ed66-4dcb-a376-22673aebb469",
  "operator_data": [],
  "outputWidgetContext": []
 },
 "nbformat": 4,
 "nbformat_minor": 4
}
