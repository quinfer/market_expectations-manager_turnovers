{
 "cells": [
  {
   "cell_type": "code",
   "execution_count": null,
   "metadata": {},
   "outputs": [],
   "source": [
    "import os\n",
    "from typing import Dict, List\n",
    "from groq import Groq\n",
    "import pandas as pd\n",
    "# Get a free API key from https://console.groq.com/keys\n",
    "os.environ[\"GROQ_API_KEY\"] = \"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\"\n",
    "\n",
    "LLAMA3_70B_INSTRUCT = \"llama3-70b-8192\"\n",
    "LLAMA3_8B_INSTRUCT = \"llama3-8b-8192\"\n",
    "\n",
    "DEFAULT_MODEL = LLAMA3_70B_INSTRUCT\n",
    "\n",
    "client = Groq()\n"
   ]
  },
  {
   "cell_type": "code",
   "execution_count": null,
   "metadata": {},
   "outputs": [],
   "source": [
    "from typing import List, Optional\n",
    "import json\n",
    "from enum import Enum\n",
    "from pydantic import BaseModel\n",
    "from groq import Groq\n",
    "\n",
    "groq = Groq()\n",
    "\n",
    "class TeamLevel(Enum):\n",
    "    Level1 = \"Senior\"\n",
    "    Level2 = \"Reserve\"\n",
    "    Level3 = \"Youth\"    \n",
    "\n",
    "class Spells(BaseModel):\n",
    "    club_name: str\n",
    "    team_level: TeamLevel\n",
    "    manager: str\n",
    "    end_of_spell: str\n",
    "    start_of_spell: str\n",
    "    league: str\n",
    "    tier: str\n",
    "    sacked: Optional[bool]\n",
    "    probability_of_sacking_true: Optional[float]\n",
    "\n",
    "\n",
    "def get_spell(club_name: str,end_of_spell: str) -> Spells:\n",
    "    chat_completion = groq.chat.completions.create(\n",
    "        messages=[\n",
    "            {\n",
    "                \"role\": \"system\",\n",
    "                \"content\": \"You are a football statistician that outputs football facts about managerial spells in JSON.\\n\"\n",
    "                # Pass the json schema to the model. Pretty printing improves results.\n",
    "                f\" The JSON object must use the schema: {json.dumps(Spells.model_json_schema(), indent=2)}\",\n",
    "            },\n",
    "            {\n",
    "                \"role\": \"user\",\n",
    "                \"content\": f\"Fetch football facts about the managerial spells at {club_name} which ended in {end_of_spell}.\",\n",
    "            },\n",
    "        ],\n",
    "        model=DEFAULT_MODEL,\n",
    "        temperature=0,\n",
    "        top_p= 0.9,\n",
    "        # Streaming is not supported in JSON mode\n",
    "        stream=False,\n",
    "        # Enable JSON mode by setting the response format\n",
    "        response_format={\"type\": \"json_object\"},\n",
    "    )\n",
    "    content = chat_completion.choices[0].message.content    \n",
    "\n",
    "    return Spells.model_validate_json(chat_completion.choices[0].message.content)\n",
    "\n",
    "#Italy U21\t2008-09-10\n",
    "spell = get_spell(\"Italy U21\", \"2008-09-10\")\n",
    "print(spell.club_name)\n",
    "print(spell.team_level.value)\n",
    "print(spell.manager)"
   ]
  },
  {
   "cell_type": "markdown",
   "metadata": {},
   "source": [
    "# Extracting information from managerial spells"
   ]
  },
  {
   "cell_type": "code",
   "execution_count": 11,
   "metadata": {},
   "outputs": [
    {
     "data": {
      "text/html": [
       "<div>\n",
       "<style scoped>\n",
       "    .dataframe tbody tr th:only-of-type {\n",
       "        vertical-align: middle;\n",
       "    }\n",
       "\n",
       "    .dataframe tbody tr th {\n",
       "        vertical-align: top;\n",
       "    }\n",
       "\n",
       "    .dataframe thead th {\n",
       "        text-align: right;\n",
       "    }\n",
       "</style>\n",
       "<table border=\"1\" class=\"dataframe\">\n",
       "  <thead>\n",
       "    <tr style=\"text-align: right;\">\n",
       "      <th></th>\n",
       "      <th>club_name</th>\n",
       "      <th>end_of_spell</th>\n",
       "      <th>manager</th>\n",
       "      <th>Level</th>\n",
       "      <th>league</th>\n",
       "      <th>tier</th>\n",
       "      <th>sacked</th>\n",
       "      <th>probability_of_sacking_true</th>\n",
       "      <th>error</th>\n",
       "    </tr>\n",
       "  </thead>\n",
       "  <tbody>\n",
       "  </tbody>\n",
       "</table>\n",
       "</div>"
      ],
      "text/plain": [
       "Empty DataFrame\n",
       "Columns: [club_name, end_of_spell, manager, Level, league, tier, sacked, probability_of_sacking_true, error]\n",
       "Index: []"
      ]
     },
     "execution_count": 11,
     "metadata": {},
     "output_type": "execute_result"
    }
   ],
   "source": [
    "part1 = pd.read_csv(\"LLM_output_augmented.csv\")\n",
    "part2 = pd.read_csv(\"LLM_output_augmented_part2.csv\")\n",
    "part3 = pd.read_csv(\"LLM_output_augmented_part3.csv\")\n",
    "subset_columns=['manager','Level','league','tier','sacked','probability_of_sacking_true','error']\n",
    "part1[~part1[subset_columns].isna().all(axis=1)]"
   ]
  },
  {
   "cell_type": "code",
   "execution_count": 14,
   "metadata": {},
   "outputs": [
    {
     "name": "stdout",
     "output_type": "stream",
     "text": [
      "49661\n"
     ]
    }
   ],
   "source": [
    "part2[~part2[subset_columns].isna().all(axis=1)]\n",
    "print(part2[part2[subset_columns].isna().all(axis=1)].__len__())"
   ]
  },
  {
   "attachments": {},
   "cell_type": "markdown",
   "metadata": {},
   "source": [
    "## Groq limits\n",
    "\n",
    "Rate Limits\n",
    "Rate limits act as control measures to regulate how frequently a user or application can make requests within a given timeframe.\n",
    "Current rate limits for chat completions:\n",
    "You can view the current rate limits for chat completions in your organization settings\n",
    "\n",
    "The team is working on introducing paid tiers with stable and increased rate limits in the near future.\n",
    "Status code & rate limit headers\n",
    "We set the following x-ratelimit headers to inform you on current rate limits applicable to the API key and associated organization.\n",
    "\n",
    "The following headers are set (values are illustrative):\n",
    "\n",
    "Header\tValue\tNotes\n",
    "retry-after\t2\tIn seconds\n",
    "x-ratelimit-limit-requests\t14400\tAlways refers to Requests Per Day (RPD)\n",
    "x-ratelimit-limit-tokens\t18000\tAlways refers to Tokens Per Minute (TPM)\n",
    "x-ratelimit-remaining-requests\t14370\tAlways refers to Requests Per Day (RPD)\n",
    "x-ratelimit-remaining-tokens\t17997\tAlways refers to Tokens Per Minute (TPM)\n",
    "x-ratelimit-reset-requests\t2m59.56s\tAlways refers to Requests Per Day (RPD)\n",
    "x-ratelimit-reset-tokens\t7.66s\tAlways refers to Tokens Per Minute (TPM)\n",
    "\n",
    "When the rate limit is reached we return a 429 Too Many Requests HTTP status code.\n",
    "\n",
    "Note, retry-after is only set if you hit the rate limit and status code 429 is returned. The other headers are always included."
   ]
  },
  {
   "cell_type": "code",
   "execution_count": null,
   "metadata": {},
   "outputs": [],
   "source": [
    "progress_bar.close()"
   ]
  },
  {
   "cell_type": "code",
   "execution_count": null,
   "metadata": {},
   "outputs": [],
   "source": [
    "import pandas as pd\n",
    "from tqdm import tqdm\n",
    "import time\n",
    "from groq import BadRequestError, InternalServerError\n",
    "from pydantic import ValidationError\n",
    "import logging  # Import logging module\n",
    "inputs = df_all_na_subset\n",
    "\n",
    "# Create a progress bar\n",
    "progress_bar = tqdm(total=len(inputs))   \n",
    "    \n",
    "\n",
    "def main():\n",
    "    #...\n",
    "    max_retries = 3  # Maximum number of retries\n",
    "    retry_delay = 1  # Initial retry delay in seconds\n",
    "    \n",
    "    # Iterate over the rows of the csv file\n",
    "    for i, row in inputs.iterrows():\n",
    "        club = row[\"club_name\"]\n",
    "        date = row[\"end_of_spell\"]\n",
    "\n",
    "        for attempt in range(max_retries):\n",
    "            try:\n",
    "                spell = get_spell(club, date)\n",
    "                # Save the output to a new dataframe\n",
    "                inputs.loc[i, \"manager\"] = spell.manager\n",
    "                inputs.loc[i, \"Level\"] = spell.team_level.value\n",
    "                inputs.loc[i, \"league\"] = spell.league\n",
    "                inputs.loc[i, \"tier\"] = spell.tier\n",
    "                inputs.loc[i, \"sacked\"] = spell.sacked\n",
    "                inputs.loc[i, \"probability_of_sacking_true\"] = spell.probability_of_sacking_true\n",
    "                progress_bar.update(1)  # Update on success\n",
    "                break  # Exit the retry loop if successful\n",
    "            except (BadRequestError, ValidationError) as e:\n",
    "                # Handle BadRequestError and ValidationError as before\n",
    "                inputs.loc[i, 'error'] = str(e)\n",
    "                continue\n",
    "            except InternalServerError:\n",
    "                logging.warning(f\"InternalServerError encountered. Retrying in {retry_delay} seconds (attempt {attempt + 1}/{max_retries})\")\n",
    "                time.sleep(retry_delay)\n",
    "                progress_bar.update(0.1) # Update during retry\n",
    "                retry_delay *= 2  # Double the delay for the next retry\n",
    "        else:\n",
    "            logging.error(f\"Failed to fetch data for club '{club}' after {max_retries} attempts.\")\n",
    "            inputs.loc[i, 'error'] = \"InternalServerError\"\n",
    "\n",
    "    # Update the progress bar\n",
    "    progress_bar.update(1)\n",
    "\n",
    "# Close the progress bar\n",
    "progress_bar.close()\n",
    "    \n",
    "inputs.to_csv(\"LLM_output_augmented.csv\", index=False)\n",
    "\n",
    "if __name__ == \"__main__\":\n",
    "    main()\n"
   ]
  },
  {
   "cell_type": "code",
   "execution_count": null,
   "metadata": {},
   "outputs": [],
   "source": [
    "df=inputs\n",
    "subset_columns=['manager','Level','league','tier','sacked','probability_of_sacking_true','error']\n",
    "df_all_na_subset = df[df[subset_columns].isna().all(axis=1)]\n",
    "print(df_all_na_subset)\n",
    "inputs[~inputs[subset_columns].isna().all(axis=1)].to_csv(\"LLM_output_augmented_part3.csv\", index=False)\n",
    "inputs.to_csv(\"LLM_output_augmented_part2.csv\", index=False)"
   ]
  }
 ],
 "metadata": {
  "captumWidgetMessage": [],
  "dataExplorerConfig": [],
  "kernelspec": {
   "display_name": "Python 3 (ipykernel)",
   "language": "python",
   "name": "python3"
  },
  "language_info": {
   "codemirror_mode": {
    "name": "ipython",
    "version": 3
   },
   "file_extension": ".py",
   "mimetype": "text/x-python",
   "name": "python",
   "nbconvert_exporter": "python",
   "pygments_lexer": "ipython3",
   "version": "3.8.3"
  },
  "last_base_url": "https://bento.edge.x2p.facebook.net/",
  "last_kernel_id": "161e2a7b-2d2b-4995-87f3-d1539860ecac",
  "last_msg_id": "4eab1242-d815b886ebe4f5b1966da982_543",
  "last_server_session_id": "4a7b41c5-ed66-4dcb-a376-22673aebb469",
  "operator_data": [],
  "outputWidgetContext": []
 },
 "nbformat": 4,
 "nbformat_minor": 4
}
