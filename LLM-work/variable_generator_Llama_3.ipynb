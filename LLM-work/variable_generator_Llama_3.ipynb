{
 "cells": [
  {
   "cell_type": "code",
   "execution_count": 20,
   "metadata": {},
   "outputs": [],
   "source": [
    "import os\n",
    "from typing import Dict, List\n",
    "from groq import Groq\n",
    "\n",
    "# Get a free API key from https://console.groq.com/keys\n",
    "os.environ[\"GROQ_API_KEY\"] = \"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\"\n",
    "\n",
    "LLAMA3_70B_INSTRUCT = \"llama3-70b-8192\"\n",
    "LLAMA3_8B_INSTRUCT = \"llama3-8b-8192\"\n",
    "\n",
    "DEFAULT_MODEL = LLAMA3_70B_INSTRUCT\n",
    "\n",
    "client = Groq()\n"
   ]
  },
  {
   "cell_type": "code",
   "execution_count": 21,
   "metadata": {},
   "outputs": [],
   "source": [
    "from typing import List, Optional\n",
    "import json\n",
    "\n",
    "from pydantic import BaseModel\n",
    "from groq import Groq\n",
    "\n",
    "groq = Groq()\n",
    "\n",
    "class Spells(BaseModel):\n",
    "    club_name: str\n",
    "    manager: str\n",
    "    end_of_spell: str\n",
    "    start_of_spell: str\n",
    "    league: str\n",
    "    tier: str\n",
    "    sacked: Optional[bool]\n",
    "    probability_of_sacking_true: Optional[float]\n",
    "\n",
    "\n",
    "def get_spell(club_name: str,end_of_spell: str) -> Spells:\n",
    "    chat_completion = groq.chat.completions.create(\n",
    "        messages=[\n",
    "            {\n",
    "                \"role\": \"system\",\n",
    "                \"content\": \"You are a football statistician that outputs football facts about managerial spells in JSON.\\n\"\n",
    "                # Pass the json schema to the model. Pretty printing improves results.\n",
    "                f\" The JSON object must use the schema: {json.dumps(Spells.model_json_schema(), indent=2)}\",\n",
    "            },\n",
    "            {\n",
    "                \"role\": \"user\",\n",
    "                \"content\": f\"Fetch football facts about the managerial spells at {club_name} which ended in {end_of_spell}.\",\n",
    "            },\n",
    "        ],\n",
    "        model=DEFAULT_MODEL,\n",
    "        temperature=0,\n",
    "        top_p= 0.9,\n",
    "        # Streaming is not supported in JSON mode\n",
    "        stream=False,\n",
    "        # Enable JSON mode by setting the response format\n",
    "        response_format={\"type\": \"json_object\"},\n",
    "    )\n",
    "    return Spells.model_validate_json(chat_completion.choices[0].message.content)\n",
    "\n",
    "\n",
    "spell = get_spell(\"Manchester United\", \"1965\")\n",
    "#print(spell.club_name)\n"
   ]
  },
  {
   "cell_type": "markdown",
   "metadata": {},
   "source": [
    "# Extracting information from managerial spells"
   ]
  },
  {
   "cell_type": "code",
   "execution_count": 27,
   "metadata": {},
   "outputs": [
    {
     "name": "stderr",
     "output_type": "stream",
     "text": [
      "  0%|          | 32/70600 [01:49<66:46:17,  3.41s/it]\n"
     ]
    }
   ],
   "source": [
    "progress_bar.close()"
   ]
  },
  {
   "cell_type": "code",
   "execution_count": 28,
   "metadata": {},
   "outputs": [
    {
     "name": "stderr",
     "output_type": "stream",
     "text": [
      "  0%|          | 1/70600 [00:01<25:11:03,  1.28s/it]"
     ]
    },
    {
     "name": "stdout",
     "output_type": "stream",
     "text": [
      "West Ham United\n",
      "David Moyes\n",
      "2018-05-16\n",
      "2017-11-07\n",
      "Premier League\n",
      "1\n",
      "False\n",
      "None\n",
      "\n",
      "\n"
     ]
    },
    {
     "name": "stderr",
     "output_type": "stream",
     "text": [
      "  0%|          | 2/70600 [00:02<24:05:26,  1.23s/it]"
     ]
    },
    {
     "name": "stdout",
     "output_type": "stream",
     "text": [
      "Sunderland\n",
      "David Moyes\n",
      "2017-05-22\n",
      "2016-07-23\n",
      "Premier League\n",
      "1\n",
      "True\n",
      "0.85\n",
      "\n",
      "\n"
     ]
    },
    {
     "name": "stderr",
     "output_type": "stream",
     "text": [
      "  0%|          | 3/70600 [00:03<18:47:21,  1.04it/s]"
     ]
    },
    {
     "name": "stdout",
     "output_type": "stream",
     "text": [
      "Real Sociedad\n",
      "David Moyes\n",
      "2015-11-09\n",
      "2014-11-10\n",
      "La Liga\n",
      "1\n",
      "True\n",
      "0.85\n",
      "\n",
      "\n"
     ]
    },
    {
     "name": "stderr",
     "output_type": "stream",
     "text": [
      "  0%|          | 4/70600 [00:04<21:37:31,  1.10s/it]"
     ]
    },
    {
     "name": "stdout",
     "output_type": "stream",
     "text": [
      "Manchester United\n",
      "David Moyes\n",
      "2014-04-22\n",
      "2013-07-01\n",
      "Premier League\n",
      "1\n",
      "True\n",
      "0.85\n",
      "\n",
      "\n"
     ]
    },
    {
     "name": "stderr",
     "output_type": "stream",
     "text": [
      "  0%|          | 5/70600 [00:05<20:24:39,  1.04s/it]"
     ]
    },
    {
     "name": "stdout",
     "output_type": "stream",
     "text": [
      "Everton\n",
      "David Moyes\n",
      "2013-06-30\n",
      "2002-03-15\n",
      "Premier League\n",
      "1\n",
      "False\n",
      "None\n",
      "\n",
      "\n"
     ]
    },
    {
     "name": "stderr",
     "output_type": "stream",
     "text": [
      "  0%|          | 6/70600 [00:06<18:54:32,  1.04it/s]"
     ]
    },
    {
     "name": "stdout",
     "output_type": "stream",
     "text": [
      "Preston North End\n",
      "David Moyes\n",
      "2002-03-13\n",
      "1998-01-12\n",
      "English Football League\n",
      "Second Division\n",
      "False\n",
      "None\n",
      "\n",
      "\n"
     ]
    },
    {
     "name": "stderr",
     "output_type": "stream",
     "text": [
      "  0%|          | 7/70600 [00:06<17:01:59,  1.15it/s]"
     ]
    },
    {
     "name": "stdout",
     "output_type": "stream",
     "text": [
      "Real Betis\n",
      "Manuel Pellegrini\n",
      "2026-06-30\n",
      "2020-07-09\n",
      "La Liga\n",
      "1\n",
      "True\n",
      "0.85\n",
      "\n",
      "\n"
     ]
    },
    {
     "name": "stderr",
     "output_type": "stream",
     "text": [
      "  0%|          | 8/70600 [00:07<15:35:49,  1.26it/s]"
     ]
    },
    {
     "name": "stdout",
     "output_type": "stream",
     "text": [
      "West Ham United\n",
      "Manuel Pellegrini\n",
      "2019-12-28\n",
      "2018-05-22\n",
      "Premier League\n",
      "1\n",
      "True\n",
      "0.85\n",
      "\n",
      "\n"
     ]
    },
    {
     "name": "stderr",
     "output_type": "stream",
     "text": [
      "  0%|          | 9/70600 [00:08<15:58:50,  1.23it/s]"
     ]
    },
    {
     "name": "stdout",
     "output_type": "stream",
     "text": [
      "HB Køge FC\n",
      "Jimmy Kastrup\n",
      "2018-05-19\n",
      "2017-07-01\n",
      "Danish 1st Division\n",
      "2\n",
      "True\n",
      "0.85\n",
      "\n",
      "\n"
     ]
    },
    {
     "name": "stderr",
     "output_type": "stream",
     "text": [
      "  0%|          | 10/70600 [00:09<20:14:28,  1.03s/it]"
     ]
    },
    {
     "name": "stdout",
     "output_type": "stream",
     "text": [
      "Manchester City\n",
      "Manuel Pellegrini\n",
      "2016-06-30\n",
      "2013-06-14\n",
      "Premier League\n",
      "1\n",
      "False\n",
      "None\n",
      "\n",
      "\n"
     ]
    },
    {
     "name": "stderr",
     "output_type": "stream",
     "text": [
      "  0%|          | 11/70600 [00:12<28:21:20,  1.45s/it]"
     ]
    },
    {
     "name": "stdout",
     "output_type": "stream",
     "text": [
      "Málaga CF\n",
      "Manuel Pellegrini\n",
      "2013-06-30\n",
      "2010-07-02\n",
      "La Liga\n",
      "1\n",
      "False\n",
      "None\n",
      "\n",
      "\n"
     ]
    },
    {
     "name": "stderr",
     "output_type": "stream",
     "text": [
      "  0%|          | 12/70600 [00:15<39:04:26,  1.99s/it]"
     ]
    },
    {
     "name": "stdout",
     "output_type": "stream",
     "text": [
      "Real Madrid\n",
      "Manuel Pellegrini\n",
      "2010-05-27\n",
      "2009-06-01\n",
      "La Liga\n",
      "1\n",
      "True\n",
      "0.85\n",
      "\n",
      "\n"
     ]
    },
    {
     "name": "stderr",
     "output_type": "stream",
     "text": [
      "  0%|          | 13/70600 [00:18<47:20:19,  2.41s/it]"
     ]
    },
    {
     "name": "stdout",
     "output_type": "stream",
     "text": [
      "Villarreal\n",
      "Manuel Pellegrini\n",
      "2009-06-30\n",
      "2004-07-01\n",
      "La Liga\n",
      "1\n",
      "False\n",
      "None\n",
      "\n",
      "\n"
     ]
    },
    {
     "name": "stderr",
     "output_type": "stream",
     "text": [
      "  0%|          | 14/70600 [00:22<53:03:23,  2.71s/it]"
     ]
    },
    {
     "name": "stdout",
     "output_type": "stream",
     "text": [
      "River Plate\n",
      "Amanda Conte\n",
      "2003-12-31\n",
      "2002-07-01\n",
      "Argentine Primera División\n",
      "1\n",
      "True\n",
      "0.8\n",
      "\n",
      "\n"
     ]
    },
    {
     "name": "stderr",
     "output_type": "stream",
     "text": [
      "  0%|          | 15/70600 [00:23<45:31:36,  2.32s/it]"
     ]
    },
    {
     "name": "stdout",
     "output_type": "stream",
     "text": [
      "San Lorenzo\n",
      "Miguel Ángel Russo\n",
      "2002-06-30\n",
      "2001-07-01\n",
      "Argentine Primera División\n",
      "1\n",
      "True\n",
      "0.85\n",
      "\n",
      "\n"
     ]
    },
    {
     "name": "stderr",
     "output_type": "stream",
     "text": [
      "  0%|          | 16/70600 [00:27<56:36:54,  2.89s/it]"
     ]
    },
    {
     "name": "stdout",
     "output_type": "stream",
     "text": [
      "LDU Quito\n",
      "Hernán Darío Gómez\n",
      "2000-06-30\n",
      "1999-01-01\n",
      "Ecuadorian Serie A\n",
      "1\n",
      "True\n",
      "0.8\n",
      "\n",
      "\n"
     ]
    },
    {
     "name": "stderr",
     "output_type": "stream",
     "text": [
      "  0%|          | 17/70600 [00:31<58:17:04,  2.97s/it]"
     ]
    },
    {
     "name": "stdout",
     "output_type": "stream",
     "text": [
      "Palestino\n",
      "Fernando Carvallo\n",
      "1998-12-31\n",
      "1997-01-01\n",
      "Chilean Primera División\n",
      "1\n",
      "True\n",
      "0.8\n",
      "\n",
      "\n"
     ]
    },
    {
     "name": "stderr",
     "output_type": "stream",
     "text": [
      "  0%|          | 18/70600 [00:33<57:38:52,  2.94s/it]"
     ]
    },
    {
     "name": "stdout",
     "output_type": "stream",
     "text": [
      "Universidad Católica\n",
      "Fernando Carvallo\n",
      "1996-06-30\n",
      "1995-01-01\n",
      "Chilean Primera División\n",
      "1\n",
      "True\n",
      "0.8\n",
      "\n",
      "\n"
     ]
    },
    {
     "name": "stderr",
     "output_type": "stream",
     "text": [
      "  0%|          | 19/70600 [00:35<52:29:37,  2.68s/it]"
     ]
    },
    {
     "name": "stdout",
     "output_type": "stream",
     "text": [
      "O'Higgins\n",
      "Ricardo Ortiz\n",
      "1993-12-31\n",
      "1992-01-01\n",
      "Chilean Primera División\n",
      "1\n",
      "True\n",
      "0.8\n",
      "\n",
      "\n"
     ]
    },
    {
     "name": "stderr",
     "output_type": "stream",
     "text": [
      "  0%|          | 20/70600 [00:38<50:15:43,  2.56s/it]"
     ]
    },
    {
     "name": "stdout",
     "output_type": "stream",
     "text": [
      "Palestino\n",
      "Fernando Riera\n",
      "1991-12-31\n",
      "1990-01-01\n",
      "Chilean Primera División\n",
      "1\n",
      "True\n",
      "0.8\n",
      "\n",
      "\n"
     ]
    },
    {
     "name": "stderr",
     "output_type": "stream",
     "text": [
      "  0%|          | 21/70600 [00:39<41:28:09,  2.12s/it]"
     ]
    },
    {
     "name": "stdout",
     "output_type": "stream",
     "text": [
      "Universidad de Chile\n",
      "Luis Ibarra\n",
      "1989-01-31\n",
      "1986-01-01\n",
      "Primera División\n",
      "1\n",
      "True\n",
      "0.8\n",
      "\n",
      "\n"
     ]
    },
    {
     "name": "stderr",
     "output_type": "stream",
     "text": [
      "  0%|          | 22/70600 [00:41<41:42:08,  2.13s/it]"
     ]
    },
    {
     "name": "stdout",
     "output_type": "stream",
     "text": [
      "Al-Fateh\n",
      "Giorgos Donis\n",
      "2025-06-30\n",
      "2024-10-01\n",
      "Saudi Pro League\n",
      "1\n",
      "True\n",
      "0.85\n",
      "\n",
      "\n"
     ]
    },
    {
     "name": "stderr",
     "output_type": "stream",
     "text": [
      "  0%|          | 23/70600 [00:43<42:02:43,  2.14s/it]"
     ]
    },
    {
     "name": "stdout",
     "output_type": "stream",
     "text": [
      "Watford\n",
      "Slaven Bilić\n",
      "2023-03-07\n",
      "2022-09-26\n",
      "Championship\n",
      "2\n",
      "True\n",
      "0.85\n",
      "\n",
      "\n"
     ]
    },
    {
     "name": "stderr",
     "output_type": "stream",
     "text": [
      "  0%|          | 24/70600 [00:44<37:00:09,  1.89s/it]"
     ]
    },
    {
     "name": "stdout",
     "output_type": "stream",
     "text": [
      "Beijing Guoan\n",
      "Slaven Bilić\n",
      "2022-01-08\n",
      "2020-01-01\n",
      "Chinese Super League\n",
      "1\n",
      "True\n",
      "0.85\n",
      "\n",
      "\n"
     ]
    },
    {
     "name": "stderr",
     "output_type": "stream",
     "text": [
      "  0%|          | 25/70600 [00:45<31:17:15,  1.60s/it]"
     ]
    },
    {
     "name": "stdout",
     "output_type": "stream",
     "text": [
      "West Bromwich Albion\n",
      "Slaven Bilić\n",
      "2020-12-16\n",
      "2019-06-13\n",
      "English Championship\n",
      "2\n",
      "True\n",
      "0.85\n",
      "\n",
      "\n"
     ]
    },
    {
     "name": "stderr",
     "output_type": "stream",
     "text": [
      "  0%|          | 26/70600 [00:46<26:45:27,  1.36s/it]"
     ]
    },
    {
     "name": "stdout",
     "output_type": "stream",
     "text": [
      "Ittihad Club\n",
      "Slaven Bilić\n",
      "2019-02-24\n",
      "2018-10-04\n",
      "Saudi Pro League\n",
      "1\n",
      "True\n",
      "0.85\n",
      "\n",
      "\n"
     ]
    },
    {
     "name": "stderr",
     "output_type": "stream",
     "text": [
      "  0%|          | 27/70600 [00:48<27:41:46,  1.41s/it]"
     ]
    },
    {
     "name": "stdout",
     "output_type": "stream",
     "text": [
      "West Ham United\n",
      "Slaven Bilić\n",
      "2017-11-06\n",
      "2015-06-09\n",
      "Premier League\n",
      "1\n",
      "True\n",
      "0.85\n",
      "\n",
      "\n"
     ]
    },
    {
     "name": "stderr",
     "output_type": "stream",
     "text": [
      "  0%|          | 28/70600 [00:49<26:40:21,  1.36s/it]"
     ]
    },
    {
     "name": "stdout",
     "output_type": "stream",
     "text": [
      "Besiktas\n",
      "Slaven Bilic\n",
      "2015-05-30\n",
      "2013-06-25\n",
      "Super Lig\n",
      "1\n",
      "False\n",
      "None\n",
      "\n",
      "\n"
     ]
    },
    {
     "name": "stderr",
     "output_type": "stream",
     "text": [
      "  0%|          | 29/70600 [00:50<24:42:57,  1.26s/it]"
     ]
    },
    {
     "name": "stdout",
     "output_type": "stream",
     "text": [
      "Lokomotiv Moscow\n",
      "Slavoljub Muslin\n",
      "2013-06-18\n",
      "2013-06-07\n",
      "Russian Premier League\n",
      "1\n",
      "True\n",
      "0.85\n",
      "\n",
      "\n"
     ]
    },
    {
     "name": "stderr",
     "output_type": "stream",
     "text": [
      "  0%|          | 30/70600 [00:51<22:05:51,  1.13s/it]"
     ]
    },
    {
     "name": "stdout",
     "output_type": "stream",
     "text": [
      "Croatia\n",
      "Slaven Bilić\n",
      "2012-06-30\n",
      "2006-07-25\n",
      "International\n",
      "National Team\n",
      "False\n",
      "None\n",
      "\n",
      "\n"
     ]
    },
    {
     "name": "stderr",
     "output_type": "stream",
     "text": [
      "  0%|          | 31/70600 [00:53<26:55:50,  1.37s/it]"
     ]
    },
    {
     "name": "stdout",
     "output_type": "stream",
     "text": [
      "Croatia U21\n",
      "Dražan Ladić\n",
      "2006-06-30\n",
      "2004-07-01\n",
      "UEFA U-21 Championship\n",
      "International\n",
      "False\n",
      "None\n",
      "\n",
      "\n"
     ]
    },
    {
     "name": "stderr",
     "output_type": "stream",
     "text": [
      "  0%|          | 32/70600 [00:54<26:40:46,  1.36s/it]"
     ]
    },
    {
     "name": "stdout",
     "output_type": "stream",
     "text": [
      "Hajduk Split\n",
      "Zoran Vulić\n",
      "2003-05-04\n",
      "2002-10-21\n",
      "Prva HNL\n",
      "1\n",
      "True\n",
      "0.85\n",
      "\n",
      "\n"
     ]
    },
    {
     "name": "stderr",
     "output_type": "stream",
     "text": [
      "  0%|          | 34/70600 [00:57<28:08:25,  1.44s/it]"
     ]
    },
    {
     "name": "stdout",
     "output_type": "stream",
     "text": [
      "West Bromwich Albion\n",
      "Sam Allardyce\n",
      "2021-06-30\n",
      "2020-12-16\n",
      "Premier League\n",
      "1\n",
      "True\n",
      "0.85\n",
      "\n",
      "\n"
     ]
    },
    {
     "name": "stderr",
     "output_type": "stream",
     "text": [
      "  0%|          | 35/70600 [00:58<25:10:46,  1.28s/it]"
     ]
    },
    {
     "name": "stdout",
     "output_type": "stream",
     "text": [
      "Everton\n",
      "Sam Allardyce\n",
      "2018-05-16\n",
      "2017-11-30\n",
      "Premier League\n",
      "1\n",
      "True\n",
      "0.85\n",
      "\n",
      "\n"
     ]
    },
    {
     "name": "stderr",
     "output_type": "stream",
     "text": [
      "  0%|          | 36/70600 [01:01<36:46:28,  1.88s/it]"
     ]
    },
    {
     "name": "stdout",
     "output_type": "stream",
     "text": [
      "Crystal Palace\n",
      "Sam Allardyce\n",
      "2017-05-23\n",
      "2016-12-23\n",
      "Premier League\n",
      "1\n",
      "False\n",
      "None\n",
      "\n",
      "\n"
     ]
    },
    {
     "name": "stderr",
     "output_type": "stream",
     "text": [
      "  0%|          | 37/70600 [01:03<34:10:42,  1.74s/it]"
     ]
    },
    {
     "name": "stdout",
     "output_type": "stream",
     "text": [
      "Sunderland\n",
      "David Moyes\n",
      "2016-09-27\n",
      "2016-07-23\n",
      "Premier League\n",
      "1\n",
      "True\n",
      "0.85\n",
      "\n",
      "\n"
     ]
    },
    {
     "name": "stderr",
     "output_type": "stream",
     "text": [
      "  0%|          | 38/70600 [01:04<32:58:46,  1.68s/it]"
     ]
    },
    {
     "name": "stdout",
     "output_type": "stream",
     "text": [
      "Sunderland\n",
      "Sam Allardyce\n",
      "2016-07-21\n",
      "2015-10-09\n",
      "Premier League\n",
      "1\n",
      "False\n",
      "None\n",
      "\n",
      "\n"
     ]
    },
    {
     "name": "stderr",
     "output_type": "stream",
     "text": [
      "  0%|          | 39/70600 [01:06<31:30:16,  1.61s/it]"
     ]
    },
    {
     "name": "stdout",
     "output_type": "stream",
     "text": [
      "West Ham United\n",
      "Sam Allardyce\n",
      "2015-06-30\n",
      "2011-06-01\n",
      "Premier League\n",
      "1\n",
      "True\n",
      "0.8\n",
      "\n",
      "\n"
     ]
    },
    {
     "name": "stderr",
     "output_type": "stream",
     "text": [
      "  0%|          | 40/70600 [01:08<32:54:19,  1.68s/it]"
     ]
    },
    {
     "name": "stdout",
     "output_type": "stream",
     "text": [
      "Blackburn Rovers\n",
      "Sam Allardyce\n",
      "2010-12-13\n",
      "2008-12-17\n",
      "Premier League\n",
      "1\n",
      "True\n",
      "0.85\n",
      "\n",
      "\n"
     ]
    },
    {
     "name": "stderr",
     "output_type": "stream",
     "text": [
      "  0%|          | 41/70600 [01:10<36:32:24,  1.86s/it]"
     ]
    },
    {
     "name": "stdout",
     "output_type": "stream",
     "text": [
      "Newcastle United\n",
      "Sam Allardyce\n",
      "2008-01-09\n",
      "2007-05-15\n",
      "Premier League\n",
      "1\n",
      "True\n",
      "0.85\n",
      "\n",
      "\n"
     ]
    },
    {
     "name": "stderr",
     "output_type": "stream",
     "text": [
      "  0%|          | 42/70600 [01:12<37:10:52,  1.90s/it]"
     ]
    },
    {
     "name": "stdout",
     "output_type": "stream",
     "text": [
      "Bolton Wanderers\n",
      "Sam Allardyce\n",
      "2007-04-30\n",
      "1999-10-19\n",
      "Premier League\n",
      "1\n",
      "True\n",
      "0.8\n",
      "\n",
      "\n"
     ]
    },
    {
     "name": "stderr",
     "output_type": "stream",
     "text": [
      "  0%|          | 43/70600 [01:15<46:02:54,  2.35s/it]"
     ]
    },
    {
     "name": "stdout",
     "output_type": "stream",
     "text": [
      "Notts County\n",
      "Sam Allardyce\n",
      "1999-10-14\n",
      "1997-01-16\n",
      "English Football League\n",
      "Third Division\n",
      "True\n",
      "0.85\n",
      "\n",
      "\n"
     ]
    },
    {
     "name": "stderr",
     "output_type": "stream",
     "text": [
      "  0%|          | 44/70600 [01:19<55:43:20,  2.84s/it]"
     ]
    },
    {
     "name": "stdout",
     "output_type": "stream",
     "text": [
      "Blackpool\n",
      "Sam Allardyce\n",
      "1995-06-30\n",
      "1994-07-19\n",
      "Second Division\n",
      "3\n",
      "True\n",
      "0.85\n",
      "\n",
      "\n"
     ]
    },
    {
     "name": "stderr",
     "output_type": "stream",
     "text": [
      "  0%|          | 45/70600 [01:23<59:32:17,  3.04s/it]"
     ]
    },
    {
     "name": "stdout",
     "output_type": "stream",
     "text": [
      "Preston North End\n",
      "Les Chapman\n",
      "1992-11-30\n",
      "1990-07-01\n",
      "Third Division\n",
      "4\n",
      "True\n",
      "0.85\n",
      "\n",
      "\n"
     ]
    },
    {
     "name": "stderr",
     "output_type": "stream",
     "text": [
      "  0%|          | 46/70600 [01:25<54:23:46,  2.78s/it]"
     ]
    },
    {
     "name": "stdout",
     "output_type": "stream",
     "text": [
      "Preston North End\n",
      "Les Chapman\n",
      "1994-06-30\n",
      "1993-07-01\n",
      "Third Division\n",
      "4\n",
      "True\n",
      "0.8\n",
      "\n",
      "\n"
     ]
    },
    {
     "name": "stderr",
     "output_type": "stream",
     "text": [
      "  0%|          | 47/70600 [01:29<60:12:49,  3.07s/it]"
     ]
    },
    {
     "name": "stdout",
     "output_type": "stream",
     "text": [
      "Limerick FC\n",
      "Eoin Hand\n",
      "1992-06-30\n",
      "1991-07-01\n",
      "League of Ireland Premier Division\n",
      "1\n",
      "True\n",
      "0.8\n",
      "\n",
      "\n"
     ]
    },
    {
     "name": "stderr",
     "output_type": "stream",
     "text": [
      "  0%|          | 48/70600 [01:32<60:13:37,  3.07s/it]"
     ]
    },
    {
     "name": "stdout",
     "output_type": "stream",
     "text": [
      "West Bromwich Albion\n",
      "Brian Talbot\n",
      "1991-06-30\n",
      "1988-06-01\n",
      "English Football League\n",
      "Second Division\n",
      "True\n",
      "0.85\n",
      "\n",
      "\n"
     ]
    },
    {
     "name": "stderr",
     "output_type": "stream",
     "text": [
      "  0%|          | 49/70600 [01:34<54:08:28,  2.76s/it]"
     ]
    }
   ],
   "source": [
    "import pandas as pd\n",
    "from tqdm import tqdm\n",
    "from groq import BadRequestError\n",
    "inputs = pd.read_csv(\"LLM_input.csv\")\n",
    "\n",
    "# Create a progress bar\n",
    "progress_bar = tqdm(total=len(inputs))\n",
    "\n",
    "# Iterate over the rows of the csv file\n",
    "for i, row in inputs.iterrows():\n",
    "    club = row[\"club_name\"]\n",
    "    date = row[\"end_of_spell\"]\n",
    "    try: \n",
    "        spell = get_spell(club, date)\n",
    "        print(spell.club_name)\n",
    "        print(spell.manager)\n",
    "        print(spell.end_of_spell)\n",
    "        print(spell.start_of_spell)\n",
    "        print(spell.league)\n",
    "        print(spell.tier)\n",
    "        print(spell.sacked)\n",
    "        print(spell.probability_of_sacking_true)\n",
    "        print(\"\\n\")\n",
    "        # Save the output to a new dataframe\n",
    "        inputs.loc[i, \"manager\"] = spell.manager\n",
    "        inputs.loc[i, \"league\"] = spell.league\n",
    "        inputs.loc[i, \"tier\"] = spell.tier\n",
    "        inputs.loc[i, \"sacked\"] = spell.sacked\n",
    "        inputs.loc[i, \"probability_of_sacking_true\"] = spell.probability_of_sacking_true\n",
    "    except BadRequestError:\n",
    "        inputs.loc[i, \"manager\"] = \"Bad Response\"    \n",
    "    \n",
    "    # Update the progress bar\n",
    "    progress_bar.update(1)\n",
    "\n",
    "# Close the progress bar\n",
    "progress_bar.close()\n",
    "    "
   ]
  },
  {
   "cell_type": "code",
   "execution_count": 24,
   "metadata": {},
   "outputs": [
    {
     "data": {
      "text/html": [
       "<div>\n",
       "<style scoped>\n",
       "    .dataframe tbody tr th:only-of-type {\n",
       "        vertical-align: middle;\n",
       "    }\n",
       "\n",
       "    .dataframe tbody tr th {\n",
       "        vertical-align: top;\n",
       "    }\n",
       "\n",
       "    .dataframe thead th {\n",
       "        text-align: right;\n",
       "    }\n",
       "</style>\n",
       "<table border=\"1\" class=\"dataframe\">\n",
       "  <thead>\n",
       "    <tr style=\"text-align: right;\">\n",
       "      <th></th>\n",
       "      <th>club_name</th>\n",
       "      <th>end_of_spell</th>\n",
       "      <th>manager</th>\n",
       "      <th>league</th>\n",
       "      <th>tier</th>\n",
       "      <th>sacked</th>\n",
       "      <th>probability_of_sacking_true</th>\n",
       "    </tr>\n",
       "  </thead>\n",
       "  <tbody>\n",
       "    <tr>\n",
       "      <th>0</th>\n",
       "      <td>West Ham</td>\n",
       "      <td>2018-05-16</td>\n",
       "      <td>David Moyes</td>\n",
       "      <td>Premier League</td>\n",
       "      <td>1</td>\n",
       "      <td>False</td>\n",
       "      <td>None</td>\n",
       "    </tr>\n",
       "    <tr>\n",
       "      <th>1</th>\n",
       "      <td>Sunderland</td>\n",
       "      <td>2017-05-22</td>\n",
       "      <td>David Moyes</td>\n",
       "      <td>Premier League</td>\n",
       "      <td>1</td>\n",
       "      <td>True</td>\n",
       "      <td>0.85</td>\n",
       "    </tr>\n",
       "    <tr>\n",
       "      <th>2</th>\n",
       "      <td>Real Sociedad</td>\n",
       "      <td>2015-11-09</td>\n",
       "      <td>David Moyes</td>\n",
       "      <td>La Liga</td>\n",
       "      <td>1</td>\n",
       "      <td>True</td>\n",
       "      <td>0.85</td>\n",
       "    </tr>\n",
       "    <tr>\n",
       "      <th>3</th>\n",
       "      <td>Man Utd</td>\n",
       "      <td>2014-04-22</td>\n",
       "      <td>David Moyes</td>\n",
       "      <td>Premier League</td>\n",
       "      <td>1</td>\n",
       "      <td>True</td>\n",
       "      <td>0.85</td>\n",
       "    </tr>\n",
       "    <tr>\n",
       "      <th>4</th>\n",
       "      <td>Everton</td>\n",
       "      <td>2013-06-30</td>\n",
       "      <td>David Moyes</td>\n",
       "      <td>Premier League</td>\n",
       "      <td>1</td>\n",
       "      <td>False</td>\n",
       "      <td>None</td>\n",
       "    </tr>\n",
       "  </tbody>\n",
       "</table>\n",
       "</div>"
      ],
      "text/plain": [
       "       club_name end_of_spell      manager          league tier sacked  \\\n",
       "0       West Ham   2018-05-16  David Moyes  Premier League    1  False   \n",
       "1     Sunderland   2017-05-22  David Moyes  Premier League    1   True   \n",
       "2  Real Sociedad   2015-11-09  David Moyes         La Liga    1   True   \n",
       "3        Man Utd   2014-04-22  David Moyes  Premier League    1   True   \n",
       "4        Everton   2013-06-30  David Moyes  Premier League    1  False   \n",
       "\n",
       "  probability_of_sacking_true  \n",
       "0                        None  \n",
       "1                        0.85  \n",
       "2                        0.85  \n",
       "3                        0.85  \n",
       "4                        None  "
      ]
     },
     "execution_count": 24,
     "metadata": {},
     "output_type": "execute_result"
    }
   ],
   "source": [
    "inputs.head()"
   ]
  }
 ],
 "metadata": {
  "captumWidgetMessage": [],
  "dataExplorerConfig": [],
  "kernelspec": {
   "display_name": "Python 3 (ipykernel)",
   "language": "python",
   "name": "python3"
  },
  "language_info": {
   "codemirror_mode": {
    "name": "ipython",
    "version": 3
   },
   "file_extension": ".py",
   "mimetype": "text/x-python",
   "name": "python",
   "nbconvert_exporter": "python",
   "pygments_lexer": "ipython3",
   "version": "3.9.19"
  },
  "last_base_url": "https://bento.edge.x2p.facebook.net/",
  "last_kernel_id": "161e2a7b-2d2b-4995-87f3-d1539860ecac",
  "last_msg_id": "4eab1242-d815b886ebe4f5b1966da982_543",
  "last_server_session_id": "4a7b41c5-ed66-4dcb-a376-22673aebb469",
  "operator_data": [],
  "outputWidgetContext": []
 },
 "nbformat": 4,
 "nbformat_minor": 4
}
